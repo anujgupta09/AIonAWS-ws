{
 "cells": [
  {
   "cell_type": "code",
   "execution_count": 7,
   "metadata": {},
   "outputs": [
    {
     "name": "stdout",
     "output_type": "stream",
     "text": [
      "\n",
      "Person\n",
      "\n",
      "Wood\n",
      "\n",
      "Wood\n",
      "\n",
      "Skin\n",
      "\n",
      "Face\n",
      "\n",
      "Skin\n"
     ]
    },
    {
     "ename": "IndexError",
     "evalue": "list index out of range",
     "output_type": "error",
     "traceback": [
      "\u001b[1;31m---------------------------------------------------------------------------\u001b[0m",
      "\u001b[1;31mIndexError\u001b[0m                                Traceback (most recent call last)",
      "\u001b[1;32m<ipython-input-7-6a8da43bcef4>\u001b[0m in \u001b[0;36m<module>\u001b[1;34m\u001b[0m\n\u001b[0;32m     30\u001b[0m \u001b[1;33m\u001b[0m\u001b[0m\n\u001b[0;32m     31\u001b[0m         \u001b[1;31m# using the o/p\u001b[0m\u001b[1;33m\u001b[0m\u001b[1;33m\u001b[0m\u001b[1;33m\u001b[0m\u001b[0m\n\u001b[1;32m---> 32\u001b[1;33m         \u001b[0mmost_likely\u001b[0m\u001b[1;33m=\u001b[0m\u001b[0mresponse\u001b[0m\u001b[1;33m[\u001b[0m\u001b[1;34m\"Labels\"\u001b[0m\u001b[1;33m]\u001b[0m\u001b[1;33m[\u001b[0m\u001b[1;36m0\u001b[0m\u001b[1;33m]\u001b[0m\u001b[1;33m[\u001b[0m\u001b[1;34m'Name'\u001b[0m\u001b[1;33m]\u001b[0m\u001b[1;33m\u001b[0m\u001b[1;33m\u001b[0m\u001b[0m\n\u001b[0m\u001b[0;32m     33\u001b[0m \u001b[1;33m\u001b[0m\u001b[0m\n\u001b[0;32m     34\u001b[0m         \u001b[0mprint\u001b[0m\u001b[1;33m(\u001b[0m\u001b[1;34m\"\\n\"\u001b[0m\u001b[1;33m+\u001b[0m\u001b[0mstr\u001b[0m\u001b[1;33m(\u001b[0m\u001b[0mmost_likely\u001b[0m\u001b[1;33m)\u001b[0m\u001b[1;33m)\u001b[0m\u001b[1;33m\u001b[0m\u001b[1;33m\u001b[0m\u001b[0m\n",
      "\u001b[1;31mIndexError\u001b[0m: list index out of range"
     ]
    }
   ],
   "source": [
    "import cv2\n",
    "import boto3\n",
    "\n",
    "while True:\n",
    "    try:\n",
    "        pic_name_webcam=\"anuuj.jpg\"\n",
    "        cap  = cv2.VideoCapture(0)              # to activate webcam (ON)\n",
    "        retrn , frame = cap.read()              # to click a pic\n",
    "        cv2.imwrite(pic_name_webcam , frame)    # to save that pic \n",
    "        cap.release()                           # to deactivate webcam (OFF)\n",
    "\n",
    "        bucket_name=\"anuj-bucket-9799\"       #variables\n",
    "        region=\"ap-south-1\"\n",
    "        pic_name_s3=\"fille.jpg\"\n",
    "        s3 = boto3.resource('s3')         # to connect s3 of aws \n",
    "        s3.Bucket(bucket_name).upload_file( pic_name_webcam , pic_name_s3) #connecting to bucket of s3 and uploading image\n",
    "\n",
    "        rekog = boto3.client('rekognition')\n",
    "        response=rekog.detect_labels(\n",
    "            Image={\n",
    "                  'S3Object': {\n",
    "                      'Bucket': bucket_name,\n",
    "                      'Name': pic_name_s3,\n",
    "                  }\n",
    "              },\n",
    "              MaxLabels=30,\n",
    "              MinConfidence=90\n",
    "          )\n",
    "        response           # now from thsi output we can put conditions and flower a usecase\n",
    "    \n",
    "        # using the o/p\n",
    "        most_likely=response[\"Labels\"][0]['Name']\n",
    "        \n",
    "        print(\"\\n\"+str(most_likely))\n",
    "    except ValueError:\n",
    "         print(\"Oops!  That was no valid number.  Try again...\")\n",
    "\n",
    "        \n",
    "        \n",
    "############# step 4 using rsponse or output"
   ]
  },
  {
   "cell_type": "code",
   "execution_count": null,
   "metadata": {},
   "outputs": [],
   "source": []
  }
 ],
 "metadata": {
  "kernelspec": {
   "display_name": "Python 3",
   "language": "python",
   "name": "python3"
  },
  "language_info": {
   "codemirror_mode": {
    "name": "ipython",
    "version": 3
   },
   "file_extension": ".py",
   "mimetype": "text/x-python",
   "name": "python",
   "nbconvert_exporter": "python",
   "pygments_lexer": "ipython3",
   "version": "3.8.3"
  }
 },
 "nbformat": 4,
 "nbformat_minor": 4
}
